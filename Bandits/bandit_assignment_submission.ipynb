{
  "cells": [
    {
      "cell_type": "markdown",
      "metadata": {
        "id": "tTJ3ZyxBNgsz"
      },
      "source": [
        "# Bandit Assignment\n",
        "\n",
        "This assignment should be done in groups of 3 and consists of a number of implementation and theory problems based on the topics discussed in the lectures and the course literature (specifically, **version 5** on arXiv):\n",
        "\n",
        "[Bandits] *Aleksandrs Slivkins, [Introduction to Multi-Armed Bandits](https://arxiv.org/pdf/1904.07272v5.pdf), Found. Trends Mach. Learn. 12(1-2): 1-286 (2019)*\n",
        "\n",
        "In the implementation problems **(1, 2, 3 and 5)**, you will implement multi-armed bandit algorithms from the [Bandits] book and use them in a provided multi-armed bandit environment. These problems will be graded based on the correctness of the code.\n",
        "\n",
        "In the theory problems **(4 and 6)**, you will derive some properties of the algorithms. These problems will be graded based on the correctness of the arguments.\n",
        "\n",
        "You may use the python libraries imported below (*numpy*, *scipy.stats* and *pandas*).\n",
        "\n",
        "The assignment should be handed in as an updated notebook. The entire notebook should be run before it is handed in, so that the plots are visible. Ensure that it is completely runnable, in the case that we want to reproduce the results."
      ]
    },
    {
      "cell_type": "markdown",
      "metadata": {
        "id": "Mg5uTg1HNgs0"
      },
      "source": [
        "## Setup"
      ]
    },
    {
      "cell_type": "markdown",
      "metadata": {
        "id": "Pypa7p8SNgs0"
      },
      "source": [
        "The cell below contains imports. It may not be modified!"
      ]
    },
    {
      "cell_type": "code",
      "execution_count": 1,
      "metadata": {
        "id": "I_GISGyYNgs0"
      },
      "outputs": [],
      "source": [
        "# DO NOT MODIFY\n",
        "import pandas as pd\n",
        "import numpy as np\n",
        "import scipy.stats as st\n",
        "import matplotlib.pyplot as plt\n",
        "\n",
        "SEED = 150\n",
        "ITERATIONS = 10\n",
        "K = 100\n",
        "T = 10000"
      ]
    },
    {
      "cell_type": "markdown",
      "metadata": {
        "id": "YRc6QgPbNgs0"
      },
      "source": [
        "The cell below contains the bandit environment and may not be modified!"
      ]
    },
    {
      "cell_type": "code",
      "execution_count": 2,
      "metadata": {
        "id": "QME7YObmNgs0"
      },
      "outputs": [],
      "source": [
        "# DO NOT MODIFY\n",
        "class Environment:\n",
        "    def __init__(self, K=10, seed=0):\n",
        "        self.random_state = np.random.RandomState(seed=seed)\n",
        "        self.mu = st.beta.rvs(a=1, b=1, size=K, random_state=self.random_state)\n",
        "\n",
        "    def expected_value(self, a):\n",
        "        return self.mu[a]\n",
        "\n",
        "    def perform_action(self, a):\n",
        "        return st.bernoulli.rvs(self.mu[a], random_state=self.random_state)\n",
        "\n",
        "    def optimal_action(self):\n",
        "        return np.argmax(self.mu)"
      ]
    },
    {
      "cell_type": "markdown",
      "metadata": {
        "id": "Xjk0k5q2Ngs1"
      },
      "source": [
        "The cell below contains the bandit algorithm base class and may not be modified!"
      ]
    },
    {
      "cell_type": "code",
      "execution_count": 3,
      "metadata": {
        "id": "UFIlFO49Ngs1"
      },
      "outputs": [],
      "source": [
        "# DO NOT MODIFY\n",
        "class BanditAlgorithmBase:\n",
        "    def select_action(self):\n",
        "        pass\n",
        "\n",
        "    def update(self, action, reward):\n",
        "        pass"
      ]
    },
    {
      "cell_type": "markdown",
      "metadata": {
        "id": "6sFs3TvqNgs1"
      },
      "source": [
        "The cell below contains the bandit experiment and may not be modified!"
      ]
    },
    {
      "cell_type": "code",
      "execution_count": 4,
      "metadata": {
        "id": "xbk2rFe8Ngs1"
      },
      "outputs": [],
      "source": [
        "# DO NOT MODIFY\n",
        "class Experiment:\n",
        "    def __init__(self, environment, bandit_algorithm):\n",
        "        self.environment = environment\n",
        "        self.bandit_algorithm = bandit_algorithm\n",
        "\n",
        "    def run_experiment(self, T=100):\n",
        "        instant_regrets = np.zeros(T)\n",
        "        for t in range(0, T):\n",
        "            action = self.bandit_algorithm.select_action()\n",
        "            reward = self.environment.perform_action(action)\n",
        "            self.bandit_algorithm.update(action, reward)\n",
        "\n",
        "            optimal_action = self.environment.optimal_action()\n",
        "            instant_regret = self.environment.expected_value(optimal_action) - self.environment.expected_value(action)\n",
        "            instant_regrets[t] = instant_regret\n",
        "        cumulative_regrets = np.cumsum(instant_regrets)\n",
        "        return (instant_regrets, cumulative_regrets)\n"
      ]
    },
    {
      "cell_type": "markdown",
      "metadata": {
        "id": "sxVN7O7ZNgs1"
      },
      "source": [
        "The cell below contains a function for repeated experiments with a provided bandit algorithm, averaging regret over the runs. It may not be modified!"
      ]
    },
    {
      "cell_type": "code",
      "execution_count": 5,
      "metadata": {
        "id": "MuQT6kuuNgs1"
      },
      "outputs": [],
      "source": [
        "# DO NOT MODIFY\n",
        "def run_repeated_experiments(bandit_algorithm_class, seed):\n",
        "    instant_regrets = []\n",
        "    cumulative_regrets = []\n",
        "    for i in range(ITERATIONS):\n",
        "        bandit_algorithm = bandit_algorithm_class(T, K)\n",
        "        environment = Environment(K, seed+i+1)\n",
        "        experiment = Experiment(environment, bandit_algorithm)\n",
        "\n",
        "        instant_regrets_i, cumulative_regrets_i = experiment.run_experiment(T)\n",
        "        instant_regrets.append(instant_regrets_i)\n",
        "        cumulative_regrets.append(cumulative_regrets_i)\n",
        "    return pd.DataFrame(data={'t': np.arange(1, T+1),\n",
        "                             'instant_regret': np.mean(np.vstack(np.array(instant_regrets)), axis=0),\n",
        "                             'regret': np.mean(np.vstack(np.array(cumulative_regrets)), axis=0)})\n"
      ]
    },
    {
      "cell_type": "markdown",
      "metadata": {
        "id": "xlr_RZt0Ngs1"
      },
      "source": [
        "## Stochastic Bandits (Chapter 1)"
      ]
    },
    {
      "cell_type": "markdown",
      "metadata": {
        "id": "T5YkFpWnNgs1"
      },
      "source": [
        "### Problem 1\n",
        "(3 points)\n",
        "\n",
        "Implement the *Explore-First* algorithm (**Algorithm 1.1** in [Bandits]) within the provided bandit algorithm template below. Use $N = \\left(\\frac{T}{K}\\right)^{2/3} \\cdot \\left( \\log T \\right)^{1/3}$."
      ]
    },
    {
      "cell_type": "code",
      "execution_count": 6,
      "metadata": {
        "id": "AVYl7lUnNgs1"
      },
      "outputs": [],
      "source": [
        "class ExploreFirst(BanditAlgorithmBase):\n",
        "    def __init__(self, T, K):\n",
        "        \"\"\"\n",
        "        Constructor of the bandit algorithm\n",
        "\n",
        "        Parameters\n",
        "        ----------\n",
        "        T : int\n",
        "            Horizon\n",
        "        K : int\n",
        "            Number of actions\n",
        "        \"\"\"\n",
        "        self.num_rounds_ran = 0\n",
        "        self.num_explore_rounds = np.round((T / K)**(2/3) * (np.log(T))**(1/3)) * K\n",
        "        self.arm_index = 0\n",
        "        self.rewards = []\n",
        "        for _ in range(K):\n",
        "            self.rewards.append([])\n",
        "        self.best_arm = 0\n",
        "        self.num_arms = K\n",
        "        return\n",
        "\n",
        "    def select_action(self):\n",
        "        \"\"\"\n",
        "        Select an action which will be performed in the environment in the\n",
        "        current time step\n",
        "\n",
        "        Returns\n",
        "        -------\n",
        "        An action index (integer) in [0, K-1]\n",
        "        \"\"\"\n",
        "        if self.num_rounds_ran < self.num_explore_rounds:\n",
        "            action = self.arm_index\n",
        "            self.arm_index = (self.arm_index + 1) %  self.num_arms\n",
        "        else:\n",
        "            action = self.best_arm\n",
        "        return action\n",
        "\n",
        "    def update(self, action, reward):\n",
        "        \"\"\"\n",
        "        Update the bandit algorithm with the reward received from the\n",
        "        environment for the action performed in the current time step\n",
        "\n",
        "        Parameters\n",
        "        ----------\n",
        "        action : int\n",
        "            An action index (integer) in [0, K-1]\n",
        "        reward : int\n",
        "            Reward (integer) in {0, 1} (Bernoulli rewards)\n",
        "\n",
        "        \"\"\"\n",
        "        self.rewards[action].append(reward)\n",
        "        self.num_rounds_ran += 1\n",
        "        if self.num_rounds_ran < self.num_explore_rounds:\n",
        "            mean_rewards = np.zeros(self.num_arms)\n",
        "            for k in range(self.num_arms):\n",
        "                mean_rewards[k] = np.mean(self.rewards[k])\n",
        "            self.best_arm= np.argmax(mean_rewards)"
      ]
    },
    {
      "cell_type": "markdown",
      "metadata": {
        "id": "20UTKFcqNgs1"
      },
      "source": [
        "Run the algorithm in the provided environment using the code below (averaging regret over 5 runs). The exploration and exploitation phases should be clearly visible in the plot."
      ]
    },
    {
      "cell_type": "code",
      "execution_count": 17,
      "metadata": {
        "id": "tdnUqfSsNgs1",
        "outputId": "0808786a-8ab3-4e9f-b448-98611b952a82",
        "colab": {
          "base_uri": "https://localhost:8080/",
          "height": 559
        }
      },
      "outputs": [
        {
          "output_type": "stream",
          "name": "stderr",
          "text": [
            "/usr/local/lib/python3.10/dist-packages/numpy/core/fromnumeric.py:3504: RuntimeWarning: Mean of empty slice.\n",
            "  return _methods._mean(a, axis=axis, dtype=dtype,\n",
            "/usr/local/lib/python3.10/dist-packages/numpy/core/_methods.py:129: RuntimeWarning: invalid value encountered in scalar divide\n",
            "  ret = ret.dtype.type(ret / rcount)\n"
          ]
        },
        {
          "output_type": "execute_result",
          "data": {
            "text/plain": [
              "<Axes: title={'center': 'Explore First'}, xlabel='t'>"
            ]
          },
          "metadata": {},
          "execution_count": 17
        },
        {
          "output_type": "display_data",
          "data": {
            "text/plain": [
              "<Figure size 640x480 with 1 Axes>"
            ],
            "image/png": "[encoded data removed]"
          },
          "metadata": {}
        }
      ],
      "source": [
        "# DO NOT MODIFY\n",
        "np.random.seed(SEED)\n",
        "ef_df = run_repeated_experiments(ExploreFirst, SEED)\n",
        "ef_df.plot(x='t', y='regret', title='Explore First')"
      ]
    },
    {
      "cell_type": "markdown",
      "metadata": {
        "id": "imLuwyJ5Ngs1"
      },
      "source": [
        "### Problem 2\n",
        "(3 points)\n",
        "\n",
        "Implement the $ \\epsilon_t $-*Greedy* algorithm (**Algorithm 1.2** in [Bandits]) within the provided bandit algorithm template below. Use $\\epsilon_t = \\min \\left\\{1,\\ t^{-1/3} \\cdot (K \\log t)^{1/3}\\right\\} $."
      ]
    },
    {
      "cell_type": "code",
      "execution_count": 8,
      "metadata": {
        "id": "qM8_Kdj7Ngs2"
      },
      "outputs": [],
      "source": [
        "class EpsilonTGreedy(BanditAlgorithmBase):\n",
        "    def __init__(self, T, K):\n",
        "        \"\"\"\n",
        "        Constructor of the bandit algorithm\n",
        "\n",
        "        Parameters\n",
        "        ----------\n",
        "        T : int\n",
        "            Horizon\n",
        "        K : int\n",
        "            Number of actions\n",
        "        \"\"\"\n",
        "\n",
        "        self.num_rounds_ran = 0\n",
        "        self.rewards = []\n",
        "        for _ in range(K):\n",
        "            self.rewards.append([])\n",
        "        self.best_arm = 0\n",
        "        self.num_arms = K\n",
        "        self.epsilon = 1\n",
        "        return\n",
        "\n",
        "    def select_action(self):\n",
        "        \"\"\"\n",
        "        Select an action which will be performed in the environment in the\n",
        "        current time step\n",
        "\n",
        "        Returns\n",
        "        -------\n",
        "        An action index (integer) in [0, K-1]\n",
        "        \"\"\"\n",
        "\n",
        "        random_num = np.random.uniform()\n",
        "        if random_num < self.epsilon:\n",
        "            action = np.random.choice(self.num_arms)\n",
        "        else:\n",
        "            action = self.best_arm\n",
        "        return action\n",
        "\n",
        "    def update(self, action, reward):\n",
        "        \"\"\"\n",
        "        Update the bandit algorithm with the reward received from the\n",
        "        environment for the action performed in the current time step\n",
        "\n",
        "        Parameters\n",
        "        ----------\n",
        "        action : int\n",
        "            An action index (integer) in [0, K-1]\n",
        "        reward : int\n",
        "            Reward (integer) in {0, 1} (Bernoulli rewards)\n",
        "\n",
        "        \"\"\"\n",
        "\n",
        "        self.rewards[action].append(reward)\n",
        "        self.num_rounds_ran += 1\n",
        "        mean_rewards = np.zeros(self.num_arms)\n",
        "        for k in range(self.num_arms):\n",
        "            mean = np.mean(self.rewards[k])\n",
        "            if np.isnan(mean):\n",
        "                mean_rewards[k] = 0\n",
        "            else:\n",
        "                mean_rewards[k] = mean\n",
        "        self.best_arm= int(np.argmax(mean_rewards))\n",
        "        self.epsilon = np.min((1, self.num_rounds_ran**(-1 / 3) * (self.num_arms *  np.log(self.num_rounds_ran))**(1 / 3)))\n",
        "        return"
      ]
    },
    {
      "cell_type": "markdown",
      "metadata": {
        "id": "ExSr6fnENgs2"
      },
      "source": [
        "Run the algorithm in the provided environment using the code below (averaging regret over 5 runs). The plot should show sublinear regret with respect to $t$."
      ]
    },
    {
      "cell_type": "code",
      "execution_count": 9,
      "metadata": {
        "id": "hFThRmzwNgs2",
        "outputId": "8d49b9d5-51dd-4abb-f4c6-f9281aa34d08",
        "colab": {
          "base_uri": "https://localhost:8080/",
          "height": 559
        }
      },
      "outputs": [
        {
          "output_type": "stream",
          "name": "stderr",
          "text": [
            "/usr/local/lib/python3.10/dist-packages/numpy/core/fromnumeric.py:3504: RuntimeWarning: Mean of empty slice.\n",
            "  return _methods._mean(a, axis=axis, dtype=dtype,\n",
            "/usr/local/lib/python3.10/dist-packages/numpy/core/_methods.py:129: RuntimeWarning: invalid value encountered in scalar divide\n",
            "  ret = ret.dtype.type(ret / rcount)\n"
          ]
        },
        {
          "output_type": "execute_result",
          "data": {
            "text/plain": [
              "<Axes: title={'center': 'Epsilon_t-Greedy'}, xlabel='t'>"
            ]
          },
          "metadata": {},
          "execution_count": 9
        },
        {
          "output_type": "display_data",
          "data": {
            "text/plain": [
              "<Figure size 640x480 with 1 Axes>"
            ],
            "image/png": "[encoded data removed]"
          },
          "metadata": {}
        }
      ],
      "source": [
        "# DO NOT MODIFY\n",
        "np.random.seed(SEED)\n",
        "eg_df = run_repeated_experiments(EpsilonTGreedy, SEED)\n",
        "eg_df.plot(x='t', y='regret', title='Epsilon_t-Greedy')"
      ]
    },
    {
      "cell_type": "markdown",
      "metadata": {
        "id": "ylHS2FpaNgs2"
      },
      "source": [
        "### Problem 3\n",
        "(3 points)\n",
        "\n",
        "Implement the UCB1 algorithm (**Algorithm 1.5** in [Bandits]) within the provided bandit algorithm template below."
      ]
    },
    {
      "cell_type": "code",
      "execution_count": 10,
      "metadata": {
        "id": "WP7VNvRQNgs2"
      },
      "outputs": [],
      "source": [
        "class UCB1(BanditAlgorithmBase):\n",
        "    def __init__(self, T, K):\n",
        "        \"\"\"\n",
        "        Constructor of the bandit algorithm\n",
        "\n",
        "        Parameters\n",
        "        ----------\n",
        "        T : int\n",
        "            Horizon\n",
        "        K : int\n",
        "            Number of actions\n",
        "        \"\"\"\n",
        "        self.num_rounds_ran = 0\n",
        "        self.arm_index = 0\n",
        "        self.rewards = []\n",
        "        for _ in range(K):\n",
        "            self.rewards.append([])\n",
        "        self.best_arm = 0\n",
        "        self.num_arms = K\n",
        "        self.epsilon = 1\n",
        "        self.num_rounds_per_arm = np.zeros(K)\n",
        "        self.mean_plus_ub = np.zeros(K)\n",
        "        return\n",
        "\n",
        "    def select_action(self):\n",
        "        \"\"\"\n",
        "        Select an action which will be performed in the environment in the\n",
        "        current time step\n",
        "\n",
        "        Returns\n",
        "        -------\n",
        "        An action index (integer) in [0, K-1]\n",
        "        \"\"\"\n",
        "        if self.num_rounds_ran < 100:\n",
        "            self.num_rounds_per_arm[self.arm_index] += 1\n",
        "            return self.arm_index\n",
        "        else:\n",
        "            best_arm = np.argmax(self.mean_plus_ub)\n",
        "            self.num_rounds_per_arm[best_arm] += 1\n",
        "            return best_arm\n",
        "\n",
        "    def update(self, action, reward):\n",
        "        \"\"\"\n",
        "        Update the bandit algorithm with the reward received from the\n",
        "        environment for the action performed in the current time step\n",
        "\n",
        "        Parameters\n",
        "        ----------\n",
        "        action : int\n",
        "            An action index (integer) in [0, K-1]\n",
        "        reward : int\n",
        "            Reward (integer) in {0, 1} (Bernoulli rewards)\n",
        "\n",
        "        \"\"\"\n",
        "        self.num_rounds_ran += 1\n",
        "        if self.num_rounds_ran < 100:\n",
        "            self.arm_index += 1\n",
        "        self.rewards[action].append(reward)\n",
        "        self.mean_plus_ub[action] = np.mean(self.rewards[action]) + np.sqrt(2 * np.log(self.num_rounds_ran) / self.num_rounds_per_arm[action])\n"
      ]
    },
    {
      "cell_type": "markdown",
      "metadata": {
        "id": "AeFagERiNgs2"
      },
      "source": [
        "Run the algorithm in the provided environment using the code below (averaging regret over 5 runs). The plot should show sublinear regret with respect to $t$."
      ]
    },
    {
      "cell_type": "code",
      "execution_count": 11,
      "metadata": {
        "id": "WioXYOSONgs2",
        "outputId": "ba0f3b9a-9bca-4564-b712-701be53ab173",
        "colab": {
          "base_uri": "https://localhost:8080/",
          "height": 489
        }
      },
      "outputs": [
        {
          "output_type": "execute_result",
          "data": {
            "text/plain": [
              "<Axes: title={'center': 'UCB1'}, xlabel='t'>"
            ]
          },
          "metadata": {},
          "execution_count": 11
        },
        {
          "output_type": "display_data",
          "data": {
            "text/plain": [
              "<Figure size 640x480 with 1 Axes>"
            ],
            "image/png": "[encoded data removed]"
          },
          "metadata": {}
        }
      ],
      "source": [
        "# DO NOT MODIFY\n",
        "np.random.seed(SEED)\n",
        "ucb1_df = run_repeated_experiments(UCB1, SEED)\n",
        "ucb1_df.plot(x='t', y='regret', title='UCB1')"
      ]
    },
    {
      "cell_type": "markdown",
      "metadata": {
        "id": "I8l_FqPMNgs2"
      },
      "source": [
        "### Problem 4\n",
        "(6 points)\n",
        "\n",
        "This theory problem is based on **Exercise 1.1** in [Bandits]. The proofs in **Chapter 1** consider environments where the rewards are in the interval $[0,1]$. Consider the case when we have additional knowledge about about the problem and that we know that the rewards for each action are in the interval $\\left[\\frac{1}{2}, \\frac{1}{2} + \\epsilon\\right]$ for some fixed $\\epsilon \\in \\left(0, \\frac{1}{2}\\right)$.\n",
        "\n",
        "Consider a version of $\\text{UCB1}$ modified to utilize this knowledge (you do not need to specify the algorithm completely, just define the new confidence radius $r_t(a)$). For this algorithm and problem setting, prove that:\n",
        "\n",
        "$\\mathbb{E}\\left[R(t)\\right] \\leq \\frac{2 \\epsilon t}{T^2} + 2 \\epsilon \\sqrt{2 K t \\log T}$\n",
        "\n",
        "**Instructions:** Use a version of Hoeffding Inequality with ranges (**Theorem A.2** in the [Bandits] book) to modify the confidence radius $r_t(a)$. Subsequently follow the steps of the analysis leading up to **Theorem 1.14** in [Bandits] to derive the regret bound, though show the actual constants instead of using big O notation:\n",
        "\n",
        "1. Define the clean event, like in **Section 1.3.1**, and lower bound the probability of the event.\n",
        "2. Start with the definition of the regret $\\mathbb{E}\\left[R(t)\\right]$, and perform a regret decomposition like on **Page 11** of **Section 1.3.2**.\n",
        "3. Bound the *gap* $\\Delta (a_t)$, like in **Section 1.3.3**.\n",
        "4. Complete the proof using the technique on **Page 12** of **Section 1.3.2**. Note that applying the bound in step 3 requires careful motivation.\n",
        "\n",
        "*Write the solution in the Markdown cell below (use LaTeX-math mode for equations, etc.).*"
      ]
    },
    {
      "cell_type": "markdown",
      "metadata": {
        "id": "d9CG81sdNgs2"
      },
      "source": [
        "#### Solution"
      ]
    },
    {
      "cell_type": "markdown",
      "metadata": {
        "id": "zfg3o0WaNgs2"
      },
      "source": [
        "${\n",
        "\\Pr\\left( \\left| x_n - \\mu_n \\right| \\leq \\sqrt{\\frac{\\alpha \\beta \\log T}{n}} \\right) \\geq 1 - 2T^{-2 \\alpha}\n",
        "}$\n",
        "\n",
        "where $\\alpha = 2$\n",
        "\n",
        "$\\beta= \\frac{1}{n} \\sum_{i \\in [n]} (b_i - a_i)^2$\n",
        "\n",
        "Substituing $a=\\frac{1}{2}$ and $b= \\epsilon+\\frac{1}{2} $ in $\\beta = \\frac{1}{n} \\sum_{i \\in [n]} \\epsilon^2$\n",
        "\n",
        "Defining clean event:\n",
        "\n",
        "${\n",
        "\\Pr\\left( \\left| \\mu_t(a) - \\mu(a) \\right| \\leq \\sqrt{\\frac{2 \\epsilon^2 \\log T}{n}} \\right) \\geq 1 - \\frac{2}{T^4}\n",
        "}$\n",
        "\n",
        "Total Expectation of regrets:   \n",
        "\n",
        "${\n",
        "\\mathbb{E}[R(t)] = \\mathbb{E}[R(t) | \\text{clean}] \\cdot \\Pr[\\text{clean}] + \\mathbb{E}[R(t) | \\text{dirty}] \\cdot \\Pr[\\text{dirty}]\n",
        "}$\n",
        "\n",
        "\n",
        "\n",
        "${\n",
        "=  \\mathbb{E}[R(t) | \\text{clean}] + ϵ t \\frac{2}{T^2}\n",
        "}$\n",
        "\n",
        "\n",
        "${\n",
        "    Δ(a_t) = 2 ϵ \\sqrt {\\frac{2 log T} {n_t(a)}}\n",
        "}$\n",
        "\n",
        "${\n",
        "    R(t,a) = n_t(a) \\delta_t = 2 \\sqrt{log T n_t (a)}\n",
        "}$\n",
        "\n",
        "\n",
        "${\n",
        "    \\mathbb{E}[R(t) | \\text{clean}] = 2 ϵ \\sqrt{2 \\log T} \\sum _{a \\in A^{+}} \\sqrt{n_t(a)}\n",
        "}$\n",
        "\n",
        "${\n",
        "    =2 ϵ \\sqrt{2 log T} k (\\frac {1}{k} \\sum \\sqrt{n_t (a)})\n",
        "}$\n",
        "\n",
        "${\n",
        " ≤ 2 ϵ \\sqrt {2 log T} k \\sqrt{\\frac {1}{k} \\sum n_t(a)}\n",
        "}$\n",
        "\n",
        "${\n",
        "    \\leq 2 ϵ \\sqrt{2 log T} k \\sqrt{\\frac{t}{k}}\n",
        "}$\n",
        "\n",
        "${\n",
        "    \\leq 2 ϵ t\\sqrt{2 k \\log T}\n",
        "}$\n",
        "\n",
        "\n",
        "${\n",
        "\\mathbb{E}[R(t)] \\leq 2 ϵ t\\sqrt{2 k \\log T} + ϵ t \\frac{2}{T^2}\n",
        "}$\n",
        "\n"
      ]
    },
    {
      "cell_type": "markdown",
      "metadata": {
        "id": "kvgICag5Ngs2"
      },
      "source": [
        "## Bayesian Bandits (Chapter 3)"
      ]
    },
    {
      "cell_type": "markdown",
      "metadata": {
        "id": "4EGTMTO-Ngs2"
      },
      "source": [
        "### Problem 5\n",
        "(3 points)\n",
        "\n",
        "Implement the *Thompson Sampling* algorithm (**Algorithm 3.3** in [Bandits]) within the provided bandit algorithm template below. Assume independent priors and that the prior is $\\mathbb{P} = \\text{Beta}(\\alpha_0, \\beta_0)$ with $\\alpha_0 = 1$ and $\\beta_0 = 1$ (i.e. the **Beta-Bernoulli** setting, on **page 35** in [Bandits]).\n",
        "\n",
        "**Note:** There is a typo in the expression for the posterior $\\mathbb{P}_H$ in [Bandits]. It should be $\\text{Beta}(\\alpha_0 + \\text{REW}_H,\\ \\beta_0 + t - \\text{REW}_H)$."
      ]
    },
    {
      "cell_type": "code",
      "execution_count": 12,
      "metadata": {
        "id": "BgbJFVitNgs2"
      },
      "outputs": [],
      "source": [
        "class ThompsonSampling(BanditAlgorithmBase):\n",
        "    def __init__(self, T, K):\n",
        "        \"\"\"\n",
        "        Constructor of the bandit algorithm\n",
        "\n",
        "        Parameters\n",
        "        ----------\n",
        "        T : int\n",
        "            Horizon\n",
        "        K : int\n",
        "            Number of actions\n",
        "        \"\"\"\n",
        "\n",
        "        self.parameters = np.ones((K, 2))\n",
        "        self.num_arms = K\n",
        "\n",
        "\n",
        "    def select_action(self):\n",
        "        \"\"\"\n",
        "        Select an action which will be performed in the environment in the\n",
        "        current time step\n",
        "\n",
        "        Returns\n",
        "        -------\n",
        "        An action index (integer) in [0, K-1]\n",
        "        \"\"\"\n",
        "        samples = np.zeros(self.num_arms)\n",
        "        for k in range(self.num_arms):\n",
        "            samples[k] = np.random.beta(self.parameters[k, 0], self.parameters[k, 1])\n",
        "        return np.argmax(samples)\n",
        "\n",
        "    def update(self, action, reward):\n",
        "        \"\"\"\n",
        "        Update the bandit algorithm with the reward received from the\n",
        "        environment for the action performed in the current time step\n",
        "\n",
        "        Parameters\n",
        "        ----------\n",
        "        action : int\n",
        "            An action index (integer) in [0, K-1]\n",
        "        reward : int\n",
        "            Reward (integer) in {0, 1} (Bernoulli rewards)\n",
        "\n",
        "        \"\"\"\n",
        "        self.parameters[action, 0] += reward\n",
        "        self.parameters[action, 1] += 1 - reward\n"
      ]
    },
    {
      "cell_type": "markdown",
      "metadata": {
        "id": "u-wkGcn9Ngs2"
      },
      "source": [
        "Run the algorithm in the provided environment using the code below (averaging regret over 5 runs). The plot should show sublinear regret with respect to $t$."
      ]
    },
    {
      "cell_type": "code",
      "execution_count": 13,
      "metadata": {
        "id": "zFZpNCs-Ngs2",
        "outputId": "359f8e9c-4599-4e0e-b1c9-3be622774211",
        "colab": {
          "base_uri": "https://localhost:8080/",
          "height": 489
        }
      },
      "outputs": [
        {
          "output_type": "execute_result",
          "data": {
            "text/plain": [
              "<Axes: title={'center': 'Thompson Sampling'}, xlabel='t'>"
            ]
          },
          "metadata": {},
          "execution_count": 13
        },
        {
          "output_type": "display_data",
          "data": {
            "text/plain": [
              "<Figure size 640x480 with 1 Axes>"
            ],
            "image/png": "[encoded data removed]"
          },
          "metadata": {}
        }
      ],
      "source": [
        "# DO NOT MODIFY\n",
        "np.random.seed(SEED)\n",
        "ts_df = run_repeated_experiments(ThompsonSampling, SEED)\n",
        "ts_df.plot(x='t', y='regret', title='Thompson Sampling')"
      ]
    },
    {
      "cell_type": "markdown",
      "metadata": {
        "id": "5d_HuuKDNgs3"
      },
      "source": [
        "### Problem 6\n",
        "(6 points)\n",
        "\n",
        "In this theory problem, you will show an intermediary step in the proof for the Bayesian regret bound of *Thompson Sampling* in the [Bandits] book.\n",
        "\n",
        "You are given a $K$-armed bandit problem with rewards in the interval $[0, 1]$. You can assume that $K \\leq T$, where $T$ is the horizon. Additionally, you can assume that **Lemma 1.5** holds (i.e., for this assignment we define $r_t (a) := \\sqrt{\\frac{2  \\log T}{ n_t (a)}}$, and then it holds that $\\text{Pr}\\left\\{ \\mathcal{E} \\right\\} \\geq 1 - \\frac{2}{T^2}$ with $\\mathcal{E} := \\left\\{ \\forall a \\forall t \\;\\; \\vert \\bar{\\mu}_t (a) - \\mu (a) \\vert \\leq r_t (a) \\right\\}$). Then, with $\\text{UCB}_t (a) := \\bar{\\mu}_t (a) + r_t (a)$, show that $\\mathbb{E}\\left[ \\left[ \\text{UCB}_t (a) - \\mu (a) \\right]^{-} \\right] \\leq \\frac{2}{TK}$ (i.e., show that Equation 3.14 in [Bandits], with $\\gamma = 2$, holds for all arms $a$ and rounds $t$).\n",
        "\n",
        "**Note:** $[x]^{-}$ is the negative portion of $x$, i.e., $[x]^{-} = 0$ if $x \\geq 0$ and $[x]^{-} = \\vert x \\vert$ otherwise.\n",
        "\n",
        "**Hint:** Remember that, given a random variable $X$, an event $\\mathcal{E}$ (subset of the sample space) and its complement $\\mathcal{E}^c$, by the tower rule,   \n",
        "\n",
        "*Write the solution in the Markdown cell below (use LaTeX-math mode for equations, etc.).*"
      ]
    },
    {
      "cell_type": "markdown",
      "metadata": {
        "id": "sRqt-7R9Ngs3"
      },
      "source": [
        "#### Solution"
      ]
    },
    {
      "cell_type": "markdown",
      "metadata": {
        "id": "vPV7lpm4Ngs3"
      },
      "source": [
        "$$\n",
        "\\Pr\\left(  \\forall a \\, \\forall t \\;\\; \\left| \\bar{\\mu}_t (a) - \\mu (a) \\right| \\leq r_t (a) \\right) \\geq 1 - \\frac{2}{T^2}\n",
        "$$\n",
        "$$r_t (a) = \\sqrt{\\frac{2  \\log T}{ n_t (a)}}$$\n",
        "\n",
        "$$\n",
        "\\Pr\\left( \\forall a \\, \\forall t \\;\\; \\left| \\bar{\\mu}_t (a) - \\mu (a) \\right| \\leq \\sqrt{\\frac{2  \\log T}{ n_t (a)}} \\right) \\geq 1 - \\frac{2}{T^2}\n",
        "$$\n",
        "Tower rule:\n",
        "Let x be $[ \\text{UCB}_t (a) - \\mu (a)]^-$\n",
        "\n",
        "$$\n",
        "\\mathbb{E}[x] = \\mathbb{E}[x|ϵ] * Pr(ϵ) + \\mathbb{E}[x|ϵ^c]*Pr(ϵ^c)\n",
        "$$\n",
        "\n",
        "**Case 1: $ϵ$ holds**\n",
        "$$\n",
        "Pr(ϵ) \\geq 1- \\frac{2}{T^2}\n",
        "$$\n",
        "In this case $\\text{UCB}_t (a) \\geq \\mu (a)$ so negative part is equal to zero.\n",
        "$$\n",
        "\\mathbb{E}[(\\text{UCB}_t (a) - \\mu (a)]^{-})|ϵ] = 0\n",
        "$$\n",
        "\n",
        "**Case 2: $ϵ$ does not hold**\n",
        "\n",
        "The confidence interval does not holds the true mean. $\\text{UCB}_t (a) \\leq \\mu (a)$.\n",
        "\n",
        "In worst case, lets assume error is atmost 1 since the reward distribution is between 0 to 1.\n",
        "$$\n",
        "\\mathbb{E}[(\\text{UCB}_t (a) - \\mu (a)]^{-})|ϵ^c] \\leq 1\n",
        "$$\n",
        "\n",
        "\n",
        "<!-- Substitute $n_t(a)= \\frac{T}{K} $ in $r_t(a)$  -->\n",
        "<!-- $$r_t (a) = \\sqrt{\\frac{2 K \\log T}{ T}}$$   -->\n",
        "\n",
        "\n",
        "<!-- \\mathbb{E}[(\\text{UCB}_t (a) - \\mu (a)]^{-})|ϵ^c]  \\leq \\sqrt{\\frac{2 K \\log T}{ T}} -->\n",
        "\n",
        "\n",
        "$$\n",
        "\\mathbb{E}[x]= \\mathbb{E}[(\\text{UCB}_t (a) - \\mu (a)]^{-})|ϵ^c]  * Pr(ϵ^c)\n",
        "$$\n",
        "\n",
        "$$\n",
        "\\mathbb{E}[x] \\leq 1 * \\frac{2}{T^2}\n",
        "$$\n",
        "Since $ K< N$, $\\frac{1}{K} > \\frac{1}{N}$\n",
        "$$\n",
        "\\mathbb{E}[x] \\leq  \\frac{2}{T *K}\n",
        "$$\n",
        "\n",
        "$$\\mathbb{E}\\left[ \\left[ \\text{UCB}_t (a) - \\mu (a) \\right]^{-} \\right] \\leq \\frac{2}{TK}$$"
      ]
    },
    {
      "cell_type": "markdown",
      "metadata": {
        "id": "C3oRaoKMNgs3"
      },
      "source": [
        "## Final comparison"
      ]
    },
    {
      "cell_type": "code",
      "execution_count": 18,
      "metadata": {
        "id": "5epqzOzTNgs3",
        "colab": {
          "base_uri": "https://localhost:8080/",
          "height": 497
        },
        "outputId": "b7a404f8-0ca9-4466-f689-b80ee47e4a31"
      },
      "outputs": [
        {
          "output_type": "display_data",
          "data": {
            "text/plain": [
              "<Figure size 640x480 with 1 Axes>"
            ],
            "image/png": "[encoded data removed]"
          },
          "metadata": {}
        }
      ],
      "source": [
        "fig, ax = plt.subplots(1,1)\n",
        "fig.suptitle(\"Final comparison\")\n",
        "ax.set_xlabel(\"t\"); ax.set_ylabel(\"Regret\")\n",
        "dfs = [(ef_df, \"Explore-First\"), (eg_df, \"Epsilon_t-Greedy\"), (ucb1_df, \"UCB1\"), (ts_df, \"Thompson Sampling\")]\n",
        "# dfs = [(eg_df, \"Epsilon_t-Greedy\"), (ucb1_df, \"UCB1\"), (ts_df, \"Thompson Sampling\")]\n",
        "\n",
        "for df, label in dfs: df.plot(x='t', y='regret',ax = ax, label = label)"
      ]
    },
    {
      "cell_type": "markdown",
      "metadata": {
        "id": "MYVfH4QRNgs3"
      },
      "source": [
        "## Bonus: KL-UCB"
      ]
    },
    {
      "cell_type": "markdown",
      "metadata": {
        "id": "gs9JvSRsNgs3"
      },
      "source": [
        "(0 points)\n",
        "\n",
        "As we explored in Problem 4, UCB1 relies on Hoeffding's inequality to determine the confidence radius. Hoeffding's inequality assumes that the reward is bounded (or more generally that they are sub-Gaussian). However, in this assignment we know that the rewards are Bernoulli distributed. As such, Hoeffding's inequality is too general to ensure optimal performance.\n",
        "\n",
        "KL-UCB is an upper confidence algorithm that uses the following selection rule (after sampling every arm once):\n",
        "$$\n",
        "a_t = \\argmax_{a} \\max_{\\tilde{\\mu}} \\Big\\{ \\tilde \\mu \\in [0,1] : d(\\bar{\\mu}_t(a), \\tilde \\mu) \\leq \\frac{\\log f(t)}{n_{t}(a)} \\Big\\}\n",
        "$$\n",
        "where $f(t) = 1 + t \\log^2(t)$ and $d(p, q) = p \\log \\frac{p}{q} + (1-p) \\log \\frac{1-p}{1-q}$ is the KL-divergence between two Bernoulli distributions with mean $p \\in (0,1)$ and $q \\in (0,1)$. Note that $d(p,q)$ is undefined for $p$ or $q$ in $\\{0,1\\}$.\n",
        "\n",
        "As a bonus exercise, implement KL-UCB and compare its performance against UCB1. Since KL-UCB relies on tighter concentration inequalities, we would expect KL-UCB to accumulate less regret than UCB1.\n",
        "\n",
        "If you are up for it, try making your implementation computationally efficient."
      ]
    },
    {
      "cell_type": "code",
      "execution_count": 19,
      "metadata": {
        "id": "RlRLpyVrNgs3"
      },
      "outputs": [],
      "source": [
        "class KLUCB(BanditAlgorithmBase):\n",
        "    def __init__(self, T, K):\n",
        "        \"\"\"\n",
        "        Constructor of the bandit algorithm\n",
        "\n",
        "        Parameters\n",
        "        ----------\n",
        "        T : int\n",
        "            Horizon\n",
        "        K : int\n",
        "            Number of actions\n",
        "        \"\"\"\n",
        "\n",
        "        # FILL IN CODE HERE\n",
        "        pass\n",
        "\n",
        "    def select_action(self):\n",
        "        \"\"\"\n",
        "        Select an action which will be performed in the environment in the\n",
        "        current time step\n",
        "\n",
        "        Returns\n",
        "        -------\n",
        "        An action index (integer) in [0, K-1]\n",
        "        \"\"\"\n",
        "\n",
        "        # FILL IN CODE HERE\n",
        "        pass\n",
        "\n",
        "    def update(self, action, reward):\n",
        "        \"\"\"\n",
        "        Update the bandit algorithm with the reward received from the\n",
        "        environment for the action performed in the current time step\n",
        "\n",
        "        Parameters\n",
        "        ----------\n",
        "        action : int\n",
        "            An action index (integer) in [0, K-1]\n",
        "        reward : int\n",
        "            Reward (integer) in {0, 1} (Bernoulli rewards)\n",
        "\n",
        "        \"\"\"\n",
        "\n",
        "        # FILL IN CODE HERE\n",
        "        pass"
      ]
    },
    {
      "cell_type": "code",
      "execution_count": null,
      "metadata": {
        "id": "2Hp4LBNlNgs3"
      },
      "outputs": [],
      "source": [
        "# DO NOT MODIFY\n",
        "np.random.seed(SEED)\n",
        "klucb_df = run_repeated_experiments(KLUCB, SEED)\n",
        "klucb_df.plot(x='t', y='regret', title='KL-UCB')"
      ]
    },
    {
      "cell_type": "code",
      "execution_count": null,
      "metadata": {
        "id": "x64SIxtzNgs4"
      },
      "outputs": [],
      "source": [
        "fig, ax = plt.subplots(1,1)\n",
        "fig.suptitle(\"Final comparison\")\n",
        "ax.set_xlabel(\"t\"); ax.set_ylabel(\"Regret\")\n",
        "dfs = [(ef_df, \"Explore-First\"), (eg_df, \"Epsilon_t-Greedy\"), (ucb1_df, \"UCB1\"), (ts_df, \"Thompson Sampling\"), (klucb_df, \"KL-UCB\")]\n",
        "for df, label in dfs: df.plot(x='t', y='regret',ax = ax, label = label)"
      ]
    }
  ],
  "metadata": {
    "kernelspec": {
      "display_name": "Python 3 (ipykernel)",
      "language": "python",
      "name": "python3"
    },
    "language_info": {
      "codemirror_mode": {
        "name": "ipython",
        "version": 3
      },
      "file_extension": ".py",
      "mimetype": "text/x-python",
      "name": "python",
      "nbconvert_exporter": "python",
      "pygments_lexer": "ipython3",
      "version": "3.9.13"
    },
    "colab": {
      "provenance": []
    }
  },
  "nbformat": 4,
  "nbformat_minor": 0
}